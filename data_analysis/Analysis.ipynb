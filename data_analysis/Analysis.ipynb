{
 "cells": [
  {
   "cell_type": "code",
   "execution_count": 17,
   "id": "initial_id",
   "metadata": {
    "collapsed": true,
    "ExecuteTime": {
     "end_time": "2023-12-01T06:21:28.578230Z",
     "start_time": "2023-12-01T06:21:28.574482Z"
    }
   },
   "outputs": [],
   "source": [
    "import pandas as pd\n",
    "import numpy as np\n",
    "import matplotlib.pyplot as plt\n",
    "import os\n",
    "import sys\n",
    "from pathlib import Path\n",
    "path = Path(os.getcwd())\n",
    "sys.path.append(str(path.parent.absolute()))\n",
    "from collections import defaultdict\n",
    "from commons import *"
   ]
  },
  {
   "cell_type": "code",
   "execution_count": 7,
   "outputs": [
    {
     "name": "stdout",
     "output_type": "stream",
     "text": [
      "PP_recipes.csv              ingr_map.pkl\r\n",
      "PP_users.csv                interactions_test.csv\r\n",
      "RAW_interactions.csv        interactions_train.csv\r\n",
      "RAW_recipes.csv             interactions_validation.csv\r\n"
     ]
    }
   ],
   "source": [
    "! ls ../data/archive"
   ],
   "metadata": {
    "collapsed": false,
    "ExecuteTime": {
     "end_time": "2023-11-30T22:42:38.442679Z",
     "start_time": "2023-11-30T22:42:38.318076Z"
    }
   },
   "id": "be74a1de6c808e93"
  },
  {
   "cell_type": "code",
   "execution_count": 8,
   "outputs": [
    {
     "data": {
      "text/plain": "       id       i                                        name_tokens  \\\n0  424415      23  [40480, 37229, 2911, 1019, 249, 6878, 6878, 28...   \n1  146223   96900       [40480, 18376, 7056, 246, 1531, 2032, 40481]   \n2  312329  120056     [40480, 21044, 16954, 8294, 556, 10837, 40481]   \n3   74301  168258                       [40480, 10025, 31156, 40481]   \n4   76272  109030  [40480, 17841, 252, 782, 2373, 1641, 2373, 252...   \n\n                                   ingredient_tokens  \\\n0  [[2911, 1019, 249, 6878], [1353], [6953], [153...   \n1  [[17918], [25916], [2507, 6444], [8467, 1179],...   \n2  [[5867, 24176], [1353], [6953], [1301, 11332],...   \n3  [[1270, 1645, 28447], [21601], [27952, 29471, ...   \n4  [[1430, 11434], [1430, 17027], [1615, 23, 695,...   \n\n                                        steps_tokens  \\\n0  [40480, 40482, 21662, 481, 6878, 500, 246, 161...   \n1  [40480, 40482, 729, 2525, 10906, 485, 43, 8393...   \n2  [40480, 40482, 8240, 481, 24176, 296, 1353, 66...   \n3  [40480, 40482, 5539, 21601, 1073, 903, 2324, 4...   \n4  [40480, 40482, 14046, 1430, 11434, 488, 17027,...   \n\n                                          techniques  calorie_level  \\\n0  [0, 0, 0, 0, 0, 0, 0, 0, 0, 1, 0, 0, 0, 0, 0, ...              0   \n1  [1, 0, 0, 0, 0, 0, 0, 0, 0, 1, 0, 0, 0, 0, 0, ...              0   \n2  [0, 0, 0, 0, 1, 0, 0, 0, 0, 0, 0, 1, 0, 0, 0, ...              1   \n3  [1, 0, 0, 0, 0, 0, 0, 0, 0, 0, 0, 0, 0, 0, 0, ...              0   \n4  [0, 0, 0, 0, 0, 0, 0, 0, 0, 1, 0, 0, 0, 0, 0, ...              0   \n\n                                      ingredient_ids  \n0                      [389, 7655, 6270, 1527, 3406]  \n1  [2683, 4969, 800, 5298, 840, 2499, 6632, 7022,...  \n2  [1257, 7655, 6270, 590, 5024, 1119, 4883, 6696...  \n3   [7940, 3609, 7060, 6265, 1170, 6654, 5003, 3561]  \n4                            [3484, 6324, 7594, 243]  ",
      "text/html": "<div>\n<style scoped>\n    .dataframe tbody tr th:only-of-type {\n        vertical-align: middle;\n    }\n\n    .dataframe tbody tr th {\n        vertical-align: top;\n    }\n\n    .dataframe thead th {\n        text-align: right;\n    }\n</style>\n<table border=\"1\" class=\"dataframe\">\n  <thead>\n    <tr style=\"text-align: right;\">\n      <th></th>\n      <th>id</th>\n      <th>i</th>\n      <th>name_tokens</th>\n      <th>ingredient_tokens</th>\n      <th>steps_tokens</th>\n      <th>techniques</th>\n      <th>calorie_level</th>\n      <th>ingredient_ids</th>\n    </tr>\n  </thead>\n  <tbody>\n    <tr>\n      <th>0</th>\n      <td>424415</td>\n      <td>23</td>\n      <td>[40480, 37229, 2911, 1019, 249, 6878, 6878, 28...</td>\n      <td>[[2911, 1019, 249, 6878], [1353], [6953], [153...</td>\n      <td>[40480, 40482, 21662, 481, 6878, 500, 246, 161...</td>\n      <td>[0, 0, 0, 0, 0, 0, 0, 0, 0, 1, 0, 0, 0, 0, 0, ...</td>\n      <td>0</td>\n      <td>[389, 7655, 6270, 1527, 3406]</td>\n    </tr>\n    <tr>\n      <th>1</th>\n      <td>146223</td>\n      <td>96900</td>\n      <td>[40480, 18376, 7056, 246, 1531, 2032, 40481]</td>\n      <td>[[17918], [25916], [2507, 6444], [8467, 1179],...</td>\n      <td>[40480, 40482, 729, 2525, 10906, 485, 43, 8393...</td>\n      <td>[1, 0, 0, 0, 0, 0, 0, 0, 0, 1, 0, 0, 0, 0, 0, ...</td>\n      <td>0</td>\n      <td>[2683, 4969, 800, 5298, 840, 2499, 6632, 7022,...</td>\n    </tr>\n    <tr>\n      <th>2</th>\n      <td>312329</td>\n      <td>120056</td>\n      <td>[40480, 21044, 16954, 8294, 556, 10837, 40481]</td>\n      <td>[[5867, 24176], [1353], [6953], [1301, 11332],...</td>\n      <td>[40480, 40482, 8240, 481, 24176, 296, 1353, 66...</td>\n      <td>[0, 0, 0, 0, 1, 0, 0, 0, 0, 0, 0, 1, 0, 0, 0, ...</td>\n      <td>1</td>\n      <td>[1257, 7655, 6270, 590, 5024, 1119, 4883, 6696...</td>\n    </tr>\n    <tr>\n      <th>3</th>\n      <td>74301</td>\n      <td>168258</td>\n      <td>[40480, 10025, 31156, 40481]</td>\n      <td>[[1270, 1645, 28447], [21601], [27952, 29471, ...</td>\n      <td>[40480, 40482, 5539, 21601, 1073, 903, 2324, 4...</td>\n      <td>[1, 0, 0, 0, 0, 0, 0, 0, 0, 0, 0, 0, 0, 0, 0, ...</td>\n      <td>0</td>\n      <td>[7940, 3609, 7060, 6265, 1170, 6654, 5003, 3561]</td>\n    </tr>\n    <tr>\n      <th>4</th>\n      <td>76272</td>\n      <td>109030</td>\n      <td>[40480, 17841, 252, 782, 2373, 1641, 2373, 252...</td>\n      <td>[[1430, 11434], [1430, 17027], [1615, 23, 695,...</td>\n      <td>[40480, 40482, 14046, 1430, 11434, 488, 17027,...</td>\n      <td>[0, 0, 0, 0, 0, 0, 0, 0, 0, 1, 0, 0, 0, 0, 0, ...</td>\n      <td>0</td>\n      <td>[3484, 6324, 7594, 243]</td>\n    </tr>\n  </tbody>\n</table>\n</div>"
     },
     "execution_count": 8,
     "metadata": {},
     "output_type": "execute_result"
    }
   ],
   "source": [
    "preprocessed_recipes = pd.read_csv('../data/archive/PP_recipes.csv')\n",
    "preprocessed_recipes.head(5)"
   ],
   "metadata": {
    "collapsed": false,
    "ExecuteTime": {
     "end_time": "2023-11-30T22:45:29.577782Z",
     "start_time": "2023-11-30T22:45:27.911166Z"
    }
   },
   "id": "26cffd92410bb6a3"
  },
  {
   "cell_type": "code",
   "execution_count": 10,
   "outputs": [
    {
     "data": {
      "text/plain": "                                         name      id  minutes  \\\n0  arriba   baked winter squash mexican style  137739       55   \n1            a bit different  breakfast pizza   31490       30   \n2                   all in the kitchen  chili  112140      130   \n3                          alouette  potatoes   59389       45   \n4          amish  tomato ketchup  for canning   44061      190   \n\n   contributor_id   submitted  \\\n0           47892  2005-09-16   \n1           26278  2002-06-17   \n2          196586  2005-02-25   \n3           68585  2003-04-14   \n4           41706  2002-10-25   \n\n                                                tags  \\\n0  ['60-minutes-or-less', 'time-to-make', 'course...   \n1  ['30-minutes-or-less', 'time-to-make', 'course...   \n2  ['time-to-make', 'course', 'preparation', 'mai...   \n3  ['60-minutes-or-less', 'time-to-make', 'course...   \n4  ['weeknight', 'time-to-make', 'course', 'main-...   \n\n                                    nutrition  n_steps  \\\n0       [51.5, 0.0, 13.0, 0.0, 2.0, 0.0, 4.0]       11   \n1   [173.4, 18.0, 0.0, 17.0, 22.0, 35.0, 1.0]        9   \n2  [269.8, 22.0, 32.0, 48.0, 39.0, 27.0, 5.0]        6   \n3   [368.1, 17.0, 10.0, 2.0, 14.0, 8.0, 20.0]       11   \n4   [352.9, 1.0, 337.0, 23.0, 3.0, 0.0, 28.0]        5   \n\n                                               steps  \\\n0  ['make a choice and proceed with recipe', 'dep...   \n1  ['preheat oven to 425 degrees f', 'press dough...   \n2  ['brown ground beef in large pot', 'add choppe...   \n3  ['place potatoes in a large pot of lightly sal...   \n4  ['mix all ingredients& boil for 2 1 / 2 hours ...   \n\n                                         description  \\\n0  autumn is my favorite time of year to cook! th...   \n1  this recipe calls for the crust to be prebaked...   \n2  this modified version of 'mom's' chili was a h...   \n3  this is a super easy, great tasting, make ahea...   \n4  my dh's amish mother raised him on this recipe...   \n\n                                         ingredients  n_ingredients  \n0  ['winter squash', 'mexican seasoning', 'mixed ...              7  \n1  ['prepared pizza crust', 'sausage patty', 'egg...              6  \n2  ['ground beef', 'yellow onions', 'diced tomato...             13  \n3  ['spreadable cheese with garlic and herbs', 'n...             11  \n4  ['tomato juice', 'apple cider vinegar', 'sugar...              8  ",
      "text/html": "<div>\n<style scoped>\n    .dataframe tbody tr th:only-of-type {\n        vertical-align: middle;\n    }\n\n    .dataframe tbody tr th {\n        vertical-align: top;\n    }\n\n    .dataframe thead th {\n        text-align: right;\n    }\n</style>\n<table border=\"1\" class=\"dataframe\">\n  <thead>\n    <tr style=\"text-align: right;\">\n      <th></th>\n      <th>name</th>\n      <th>id</th>\n      <th>minutes</th>\n      <th>contributor_id</th>\n      <th>submitted</th>\n      <th>tags</th>\n      <th>nutrition</th>\n      <th>n_steps</th>\n      <th>steps</th>\n      <th>description</th>\n      <th>ingredients</th>\n      <th>n_ingredients</th>\n    </tr>\n  </thead>\n  <tbody>\n    <tr>\n      <th>0</th>\n      <td>arriba   baked winter squash mexican style</td>\n      <td>137739</td>\n      <td>55</td>\n      <td>47892</td>\n      <td>2005-09-16</td>\n      <td>['60-minutes-or-less', 'time-to-make', 'course...</td>\n      <td>[51.5, 0.0, 13.0, 0.0, 2.0, 0.0, 4.0]</td>\n      <td>11</td>\n      <td>['make a choice and proceed with recipe', 'dep...</td>\n      <td>autumn is my favorite time of year to cook! th...</td>\n      <td>['winter squash', 'mexican seasoning', 'mixed ...</td>\n      <td>7</td>\n    </tr>\n    <tr>\n      <th>1</th>\n      <td>a bit different  breakfast pizza</td>\n      <td>31490</td>\n      <td>30</td>\n      <td>26278</td>\n      <td>2002-06-17</td>\n      <td>['30-minutes-or-less', 'time-to-make', 'course...</td>\n      <td>[173.4, 18.0, 0.0, 17.0, 22.0, 35.0, 1.0]</td>\n      <td>9</td>\n      <td>['preheat oven to 425 degrees f', 'press dough...</td>\n      <td>this recipe calls for the crust to be prebaked...</td>\n      <td>['prepared pizza crust', 'sausage patty', 'egg...</td>\n      <td>6</td>\n    </tr>\n    <tr>\n      <th>2</th>\n      <td>all in the kitchen  chili</td>\n      <td>112140</td>\n      <td>130</td>\n      <td>196586</td>\n      <td>2005-02-25</td>\n      <td>['time-to-make', 'course', 'preparation', 'mai...</td>\n      <td>[269.8, 22.0, 32.0, 48.0, 39.0, 27.0, 5.0]</td>\n      <td>6</td>\n      <td>['brown ground beef in large pot', 'add choppe...</td>\n      <td>this modified version of 'mom's' chili was a h...</td>\n      <td>['ground beef', 'yellow onions', 'diced tomato...</td>\n      <td>13</td>\n    </tr>\n    <tr>\n      <th>3</th>\n      <td>alouette  potatoes</td>\n      <td>59389</td>\n      <td>45</td>\n      <td>68585</td>\n      <td>2003-04-14</td>\n      <td>['60-minutes-or-less', 'time-to-make', 'course...</td>\n      <td>[368.1, 17.0, 10.0, 2.0, 14.0, 8.0, 20.0]</td>\n      <td>11</td>\n      <td>['place potatoes in a large pot of lightly sal...</td>\n      <td>this is a super easy, great tasting, make ahea...</td>\n      <td>['spreadable cheese with garlic and herbs', 'n...</td>\n      <td>11</td>\n    </tr>\n    <tr>\n      <th>4</th>\n      <td>amish  tomato ketchup  for canning</td>\n      <td>44061</td>\n      <td>190</td>\n      <td>41706</td>\n      <td>2002-10-25</td>\n      <td>['weeknight', 'time-to-make', 'course', 'main-...</td>\n      <td>[352.9, 1.0, 337.0, 23.0, 3.0, 0.0, 28.0]</td>\n      <td>5</td>\n      <td>['mix all ingredients&amp; boil for 2 1 / 2 hours ...</td>\n      <td>my dh's amish mother raised him on this recipe...</td>\n      <td>['tomato juice', 'apple cider vinegar', 'sugar...</td>\n      <td>8</td>\n    </tr>\n  </tbody>\n</table>\n</div>"
     },
     "execution_count": 10,
     "metadata": {},
     "output_type": "execute_result"
    }
   ],
   "source": [
    "raw_recipes = pd.read_csv('../data/archive/RAW_recipes.csv')\n",
    "raw_recipes.head(5)"
   ],
   "metadata": {
    "collapsed": false,
    "ExecuteTime": {
     "end_time": "2023-11-30T22:46:16.372840Z",
     "start_time": "2023-11-30T22:46:13.692409Z"
    }
   },
   "id": "79e342ecdc89872d"
  },
  {
   "cell_type": "code",
   "execution_count": 11,
   "outputs": [
    {
     "data": {
      "text/plain": "   user_id  recipe_id        date  rating  \\\n0    38094      40893  2003-02-17       4   \n1  1293707      40893  2011-12-21       5   \n2     8937      44394  2002-12-01       4   \n3   126440      85009  2010-02-27       5   \n4    57222      85009  2011-10-01       5   \n\n                                              review  \n0  Great with a salad. Cooked on top of stove for...  \n1  So simple, so delicious! Great for chilly fall...  \n2  This worked very well and is EASY.  I used not...  \n3  I made the Mexican topping and took it to bunk...  \n4  Made the cheddar bacon topping, adding a sprin...  ",
      "text/html": "<div>\n<style scoped>\n    .dataframe tbody tr th:only-of-type {\n        vertical-align: middle;\n    }\n\n    .dataframe tbody tr th {\n        vertical-align: top;\n    }\n\n    .dataframe thead th {\n        text-align: right;\n    }\n</style>\n<table border=\"1\" class=\"dataframe\">\n  <thead>\n    <tr style=\"text-align: right;\">\n      <th></th>\n      <th>user_id</th>\n      <th>recipe_id</th>\n      <th>date</th>\n      <th>rating</th>\n      <th>review</th>\n    </tr>\n  </thead>\n  <tbody>\n    <tr>\n      <th>0</th>\n      <td>38094</td>\n      <td>40893</td>\n      <td>2003-02-17</td>\n      <td>4</td>\n      <td>Great with a salad. Cooked on top of stove for...</td>\n    </tr>\n    <tr>\n      <th>1</th>\n      <td>1293707</td>\n      <td>40893</td>\n      <td>2011-12-21</td>\n      <td>5</td>\n      <td>So simple, so delicious! Great for chilly fall...</td>\n    </tr>\n    <tr>\n      <th>2</th>\n      <td>8937</td>\n      <td>44394</td>\n      <td>2002-12-01</td>\n      <td>4</td>\n      <td>This worked very well and is EASY.  I used not...</td>\n    </tr>\n    <tr>\n      <th>3</th>\n      <td>126440</td>\n      <td>85009</td>\n      <td>2010-02-27</td>\n      <td>5</td>\n      <td>I made the Mexican topping and took it to bunk...</td>\n    </tr>\n    <tr>\n      <th>4</th>\n      <td>57222</td>\n      <td>85009</td>\n      <td>2011-10-01</td>\n      <td>5</td>\n      <td>Made the cheddar bacon topping, adding a sprin...</td>\n    </tr>\n  </tbody>\n</table>\n</div>"
     },
     "execution_count": 11,
     "metadata": {},
     "output_type": "execute_result"
    }
   ],
   "source": [
    "raw_users = pd.read_csv('../data/archive/RAW_interactions.csv')\n",
    "raw_users.head(5)"
   ],
   "metadata": {
    "collapsed": false,
    "ExecuteTime": {
     "end_time": "2023-11-30T22:47:28.151997Z",
     "start_time": "2023-11-30T22:47:25.020484Z"
    }
   },
   "id": "956c7c23b7276c4d"
  },
  {
   "cell_type": "code",
   "execution_count": 18,
   "outputs": [],
   "source": [
    "ratingsPerRecipe = defaultdict(list)\n",
    "for index, row in raw_users.iterrows():\n",
    "    ratingsPerRecipe[row['recipe_id']].append(row['rating'])"
   ],
   "metadata": {
    "collapsed": false,
    "ExecuteTime": {
     "end_time": "2023-12-01T06:21:48.699417Z",
     "start_time": "2023-12-01T06:21:33.205542Z"
    }
   },
   "id": "9526bb1547d5cd6a"
  },
  {
   "cell_type": "code",
   "execution_count": 19,
   "outputs": [],
   "source": [
    "avgRatingsPerRecipe = {}\n",
    "for recipe_id, ratings in ratingsPerRecipe.items():\n",
    "    avgRatingsPerRecipe[recipe_id] = np.mean(ratings)"
   ],
   "metadata": {
    "collapsed": false,
    "ExecuteTime": {
     "end_time": "2023-12-01T06:22:04.589889Z",
     "start_time": "2023-12-01T06:22:03.832530Z"
    }
   },
   "id": "fecd44eb8260b2df"
  },
  {
   "cell_type": "code",
   "execution_count": 20,
   "outputs": [],
   "source": [
    "# get time taken to cook\n",
    "timeTakenPerRecipe = {}\n",
    "for index, row in raw_recipes.iterrows():\n",
    "    timeTakenPerRecipe[row['id']] = row['minutes']"
   ],
   "metadata": {
    "collapsed": false,
    "ExecuteTime": {
     "end_time": "2023-12-01T06:23:31.389663Z",
     "start_time": "2023-12-01T06:23:27.341540Z"
    }
   },
   "id": "2cbc8d40d1624ee9"
  },
  {
   "cell_type": "code",
   "execution_count": 21,
   "outputs": [],
   "source": [
    "# get number of ingredients\n",
    "numIngredientsPerRecipe = {}\n",
    "for index, row in raw_recipes.iterrows():\n",
    "    numIngredientsPerRecipe[row['id']] = len(row['ingredients'].split(','))\n"
   ],
   "metadata": {
    "collapsed": false,
    "ExecuteTime": {
     "end_time": "2023-12-01T06:24:01.340443Z",
     "start_time": "2023-12-01T06:23:58.279557Z"
    }
   },
   "id": "d82a133a559782bd"
  },
  {
   "cell_type": "code",
   "execution_count": 23,
   "outputs": [
    {
     "data": {
      "text/plain": "<matplotlib.collections.PathCollection at 0x28a95db20>"
     },
     "execution_count": 23,
     "metadata": {},
     "output_type": "execute_result"
    },
    {
     "data": {
      "text/plain": "<Figure size 432x288 with 1 Axes>",
      "image/png": "[encoded data removed]"
     },
     "metadata": {
      "needs_background": "light"
     },
     "output_type": "display_data"
    }
   ],
   "source": [
    "#plot number of ingredients vs avg rating\n",
    "plt.scatter(list(numIngredientsPerRecipe.values()), list(avgRatingsPerRecipe.values()))"
   ],
   "metadata": {
    "collapsed": false,
    "ExecuteTime": {
     "end_time": "2023-12-01T06:24:16.949388Z",
     "start_time": "2023-12-01T06:24:16.213023Z"
    }
   },
   "id": "45fee9641a1b2f8e"
  },
  {
   "cell_type": "code",
   "execution_count": 30,
   "outputs": [
    {
     "data": {
      "text/plain": "<matplotlib.collections.PathCollection at 0x2ad73ed00>"
     },
     "execution_count": 30,
     "metadata": {},
     "output_type": "execute_result"
    },
    {
     "data": {
      "text/plain": "<Figure size 432x288 with 1 Axes>",
      "image/png": "[encoded data removed]"
     },
     "metadata": {
      "needs_background": "light"
     },
     "output_type": "display_data"
    }
   ],
   "source": [
    "# plot time taken to cook vs avg rating\n",
    "# plot only recipes that take less than 1000 minutes to cook\n",
    "timeTakenPerRecipe = {k: v for k, v in timeTakenPerRecipe.items() if v < 1000}\n",
    "# get avg ratings for recipes that take less than 1000 minutes to cook\n",
    "avgRatingsPerRecipe = {k: v for k, v in avgRatingsPerRecipe.items() if k in timeTakenPerRecipe.keys()}\n",
    "plt.scatter(list(timeTakenPerRecipe.values()), list(avgRatingsPerRecipe.values()))"
   ],
   "metadata": {
    "collapsed": false,
    "ExecuteTime": {
     "end_time": "2023-12-01T06:26:36.322734Z",
     "start_time": "2023-12-01T06:26:35.650815Z"
    }
   },
   "id": "4d5557a29c0c7a15"
  },
  {
   "cell_type": "code",
   "execution_count": 31,
   "outputs": [
    {
     "data": {
      "text/plain": "(array([  4976.,    161.,   1495.,    682.,   3206.,   4422.,  12005.,\n          9526.,  50125., 142798.]),\n array([0. , 0.5, 1. , 1.5, 2. , 2.5, 3. , 3.5, 4. , 4.5, 5. ]),\n <BarContainer object of 10 artists>)"
     },
     "execution_count": 31,
     "metadata": {},
     "output_type": "execute_result"
    },
    {
     "data": {
      "text/plain": "<Figure size 432x288 with 1 Axes>",
      "image/png": "[encoded data removed]"
     },
     "metadata": {
      "needs_background": "light"
     },
     "output_type": "display_data"
    }
   ],
   "source": [
    "# plot histogram of avg ratings\n",
    "plt.hist(list(avgRatingsPerRecipe.values()))"
   ],
   "metadata": {
    "collapsed": false,
    "ExecuteTime": {
     "end_time": "2023-12-01T06:28:55.062202Z",
     "start_time": "2023-12-01T06:28:54.778081Z"
    }
   },
   "id": "4f4cc0570dbaa0b0"
  },
  {
   "cell_type": "code",
   "execution_count": 32,
   "outputs": [
    {
     "data": {
      "text/plain": "(array([3.9509e+04, 9.6106e+04, 6.8593e+04, 2.1584e+04, 4.6860e+03,\n        9.8200e+02, 1.3700e+02, 2.7000e+01, 9.0000e+00, 4.0000e+00]),\n array([ 1. ,  5.2,  9.4, 13.6, 17.8, 22. , 26.2, 30.4, 34.6, 38.8, 43. ]),\n <BarContainer object of 10 artists>)"
     },
     "execution_count": 32,
     "metadata": {},
     "output_type": "execute_result"
    },
    {
     "data": {
      "text/plain": "<Figure size 432x288 with 1 Axes>",
      "image/png": "[encoded data removed]"
     },
     "metadata": {
      "needs_background": "light"
     },
     "output_type": "display_data"
    }
   ],
   "source": [
    "# plot histogram of number of ingredients\n",
    "plt.hist(list(numIngredientsPerRecipe.values()))"
   ],
   "metadata": {
    "collapsed": false,
    "ExecuteTime": {
     "end_time": "2023-12-01T06:31:55.617062Z",
     "start_time": "2023-12-01T06:31:55.319004Z"
    }
   },
   "id": "f46dc9dfaccd09b0"
  },
  {
   "cell_type": "code",
   "execution_count": 33,
   "outputs": [
    {
     "data": {
      "text/plain": "(array([1.99546e+05, 1.67030e+04, 5.20900e+03, 3.18700e+03, 1.78100e+03,\n        1.71800e+03, 5.76000e+02, 4.90000e+02, 9.60000e+01, 9.00000e+01]),\n array([  0.,  99., 198., 297., 396., 495., 594., 693., 792., 891., 990.]),\n <BarContainer object of 10 artists>)"
     },
     "execution_count": 33,
     "metadata": {},
     "output_type": "execute_result"
    },
    {
     "data": {
      "text/plain": "<Figure size 432x288 with 1 Axes>",
      "image/png": "[encoded data removed]"
     },
     "metadata": {
      "needs_background": "light"
     },
     "output_type": "display_data"
    }
   ],
   "source": [
    "# plot histogram of time taken to cook\n",
    "plt.hist(list(timeTakenPerRecipe.values()))\n"
   ],
   "metadata": {
    "collapsed": false,
    "ExecuteTime": {
     "end_time": "2023-12-01T06:32:02.696339Z",
     "start_time": "2023-12-01T06:32:02.403625Z"
    }
   },
   "id": "901091a7d5dd9cba"
  },
  {
   "cell_type": "code",
   "execution_count": null,
   "outputs": [],
   "source": [],
   "metadata": {
    "collapsed": false
   },
   "id": "95aa63a122ad44b"
  }
 ],
 "metadata": {
  "kernelspec": {
   "display_name": "Python 3",
   "language": "python",
   "name": "python3"
  },
  "language_info": {
   "codemirror_mode": {
    "name": "ipython",
    "version": 2
   },
   "file_extension": ".py",
   "mimetype": "text/x-python",
   "name": "python",
   "nbconvert_exporter": "python",
   "pygments_lexer": "ipython2",
   "version": "2.7.6"
  }
 },
 "nbformat": 4,
 "nbformat_minor": 5
}
